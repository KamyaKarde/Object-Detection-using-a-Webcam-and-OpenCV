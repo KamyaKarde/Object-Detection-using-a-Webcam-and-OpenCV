{
 "cells": [
  {
   "cell_type": "code",
   "execution_count": null,
   "metadata": {},
   "outputs": [],
   "source": []
  },
  {
   "cell_type": "code",
   "execution_count": null,
   "metadata": {},
   "outputs": [],
   "source": [
    "import cv2\n",
    "\n",
    "# Load pre-trained classifiers for face, eyes, and smile detection\n",
    "face_cascade = cv2.CascadeClassifier(cv2.data.haarcascades + 'haarcascade_frontalface_default.xml')\n",
    "eye_cascade = cv2.CascadeClassifier(cv2.data.haarcascades + 'haarcascade_eye.xml')\n",
    "smile_cascade = cv2.CascadeClassifier(cv2.data.haarcascades + 'haarcascade_smile.xml')\n",
    "\n",
    "# Function to detect faces and estimate emotions\n",
    "def detect_faces_and_estimate_emotion(frame):\n",
    "    gray = cv2.cvtColor(frame, cv2.COLOR_BGR2GRAY)  # Convert to grayscale\n",
    "    faces = face_cascade.detectMultiScale(gray, scaleFactor=1.1, minNeighbors=5, minSize=(30, 30))\n",
    "\n",
    "    for (x, y, w, h) in faces:\n",
    "        face_roi = gray[y:y+h, x:x+w]  # Extract face region\n",
    "        eyes = eye_cascade.detectMultiScale(face_roi, scaleFactor=1.2, minNeighbors=10)\n",
    "        smiles = smile_cascade.detectMultiScale(face_roi, scaleFactor=1.8, minNeighbors=20)\n",
    "\n",
    "        # Emotion estimation based on detected features\n",
    "        if len(smiles) > 0 and len(eyes) > 0:\n",
    "            emotion = \"Happy 😀\"\n",
    "        elif len(smiles) == 0 and len(eyes) > 0 and h/w > 1.1:  # Face elongated (possible sadness)\n",
    "            emotion = \"Sad 😢\"\n",
    "        elif len(smiles) == 0 and len(eyes) > 1 and w/h > 1.1:  # Wide eyes, angry expression\n",
    "            emotion = \"Angry 😠\"\n",
    "        elif len(smiles) == 0 and len(eyes) > 1 and len(faces) > 1:  # Eyes wide, mouth open\n",
    "            emotion = \"Surprised 😲\"\n",
    "        else:\n",
    "            emotion = \"Neutral 😐\"\n",
    "\n",
    "        # Draw rectangle around the face\n",
    "        cv2.rectangle(frame, (x, y), (x+w, y+h), (255, 0, 0), 2)\n",
    "\n",
    "        # Display estimated emotion\n",
    "        cv2.putText(frame, emotion, (x, y-10), cv2.FONT_HERSHEY_SIMPLEX, 0.9, (0, 255, 0), 2)\n",
    "\n",
    "    return frame\n",
    "\n",
    "# Open webcam\n",
    "cap = cv2.VideoCapture(0)  # Use 0 for default webcam\n",
    "\n",
    "while True:\n",
    "    ret, frame = cap.read()  # Capture frame-by-frame\n",
    "    if not ret:\n",
    "        break\n",
    "\n",
    "    frame = detect_faces_and_estimate_emotion(frame)  # Detect faces and emotions\n",
    "    cv2.imshow('Face Detection & Emotion Estimation', frame)  # Display frame\n",
    "\n",
    "    if cv2.waitKey(1) & 0xFF == ord('q'):  # Press 'q' to exit\n",
    "        break\n",
    "\n",
    "cap.release()\n",
    "cv2.destroyAllWindows()\n"
   ]
  },
  {
   "cell_type": "code",
   "execution_count": null,
   "metadata": {},
   "outputs": [],
   "source": []
  }
 ],
 "metadata": {
  "kernelspec": {
   "display_name": "Python 3",
   "language": "python",
   "name": "python3"
  },
  "language_info": {
   "codemirror_mode": {
    "name": "ipython",
    "version": 3
   },
   "file_extension": ".py",
   "mimetype": "text/x-python",
   "name": "python",
   "nbconvert_exporter": "python",
   "pygments_lexer": "ipython3",
   "version": "3.10.10"
  }
 },
 "nbformat": 4,
 "nbformat_minor": 2
}
